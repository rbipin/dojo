{
 "cells": [
  {
   "cell_type": "code",
   "execution_count": 12,
   "metadata": {
    "dotnet_interactive": {
     "language": "csharp"
    },
    "polyglot_notebook": {
     "kernelName": "csharp"
    },
    "vscode": {
     "languageId": "polyglot-notebook"
    }
   },
   "outputs": [
    {
     "name": "stdout",
     "output_type": "stream",
     "text": [
      "1\n",
      "2\n",
      "2\n"
     ]
    }
   ],
   "source": [
    "public class Stack\n",
    "  {\n",
    "    private int[] arr;\n",
    "    private int Size;\n",
    "    public Stack(int size)\n",
    "    {\n",
    "      this.arr = new int[size];\n",
    "      this.Size = size;\n",
    "    }\n",
    "\n",
    "    public int Pop()\n",
    "    {\n",
    "       for (var i = arr.Length - 1; i >= 0; i--)\n",
    "      {\n",
    "        if (arr[i] == 0)\n",
    "        {\n",
    "          continue;\n",
    "        }\n",
    "        arr[i] = 0;\n",
    "        return arr[i];\n",
    "      }\n",
    "      return 0;\n",
    "    }\n",
    "\n",
    "    public void Push(int input)\n",
    "    {\n",
    "      var index = 0;\n",
    "      foreach (var item in arr)\n",
    "      {\n",
    "        if (item == 0)\n",
    "        {\n",
    "          arr[index] = input;\n",
    "          return;\n",
    "        }\n",
    "        index++;\n",
    "      }\n",
    "\n",
    "    }\n",
    "\n",
    "    public int Peek()\n",
    "    {\n",
    "      for (var i = arr.Length - 1; i >= 0; i--)\n",
    "      {\n",
    "        if (arr[i] == 0)\n",
    "        {\n",
    "          continue;\n",
    "        }\n",
    "        return arr[i];\n",
    "        \n",
    "      }\n",
    "      return 0;\n",
    "    }\n",
    "\n",
    "    public void Show()\n",
    "    {\n",
    "      for (var i = 0; i < arr.Length; i++)\n",
    "      {\n",
    "        var item = arr[i];\n",
    "        if (arr[i] == 0)\n",
    "        {\n",
    "          continue;\n",
    "        }\n",
    "        Console.WriteLine($\"{item}\");\n",
    "      }\n",
    "    }\n",
    "  }\n",
    "\n",
    "  var stack = new Stack(5);\n",
    "  stack.Push(1);\n",
    "  stack.Push(2);\n",
    "  stack.Push(3);\n",
    "  stack.Pop();\n",
    "  stack.Show();\n",
    "  Console.WriteLine(stack.Peek());"
   ]
  }
 ],
 "metadata": {
  "kernelspec": {
   "display_name": ".NET (C#)",
   "language": "C#",
   "name": ".net-csharp"
  },
  "language_info": {
   "name": "python"
  },
  "polyglot_notebook": {
   "kernelInfo": {
    "defaultKernelName": "csharp",
    "items": [
     {
      "aliases": [],
      "name": "csharp"
     }
    ]
   }
  }
 },
 "nbformat": 4,
 "nbformat_minor": 2
}
