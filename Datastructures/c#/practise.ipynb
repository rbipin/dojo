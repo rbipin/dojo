{
 "cells": [
  {
   "cell_type": "code",
   "execution_count": null,
   "metadata": {
    "dotnet_interactive": {
     "language": "csharp"
    },
    "polyglot_notebook": {
     "kernelName": "csharp"
    },
    "vscode": {
     "languageId": "polyglot-notebook"
    }
   },
   "outputs": [],
   "source": []
  },
  {
   "cell_type": "code",
   "execution_count": 20,
   "metadata": {
    "dotnet_interactive": {
     "language": "csharp"
    },
    "polyglot_notebook": {
     "kernelName": "csharp"
    },
    "vscode": {
     "languageId": "polyglot-notebook"
    }
   },
   "outputs": [
    {
     "name": "stdout",
     "output_type": "stream",
     "text": [
      "1,3,4,5,6,9\n"
     ]
    }
   ],
   "source": [
    "// merge sort\n",
    "\n",
    "public class Solution\n",
    "{\n",
    "  public int[] MergeSort(int[] arr)\n",
    "  {\n",
    "    if (arr.Length <= 1)\n",
    "    {\n",
    "      return arr;\n",
    "    }\n",
    "    var median = (arr.Length)/2;\n",
    "    var leftArr = MergeSort(arr[0..median]);\n",
    "    var rightArr = MergeSort(arr[median..]);\n",
    "\n",
    "    var result = Merge(leftArr, rightArr);\n",
    "    return result;\n",
    "  }\n",
    "  \n",
    "\n",
    "  private int[] Merge(int[] leftArr, int[] rightArr)\n",
    "  {\n",
    "    var leftArrLength = leftArr.Length;\n",
    "    var rightArrLength = rightArr.Length;\n",
    "    int[] mergeArr = new int[leftArrLength+rightArrLength];\n",
    "    int leftIndex = 0;\n",
    "    int rightIndex = 0;\n",
    "    int resultIndex = 0;\n",
    "    while(leftIndex < leftArrLength && rightIndex < rightArrLength)\n",
    "    {\n",
    "      if (leftArr[leftIndex] < rightArr[rightIndex])\n",
    "      {\n",
    "        mergeArr[resultIndex] = leftArr[leftIndex];\n",
    "        leftIndex++;\n",
    "      }\n",
    "      else\n",
    "      {\n",
    "        mergeArr[resultIndex] = rightArr[rightIndex];\n",
    "        rightIndex ++;\n",
    "      }\n",
    "      resultIndex = leftIndex + rightIndex;\n",
    "    }\n",
    "    \n",
    "    while(leftIndex < leftArrLength)\n",
    "    {\n",
    "      mergeArr[resultIndex] = leftArr[leftIndex];\n",
    "      leftIndex++;\n",
    "      resultIndex++;\n",
    "    }\n",
    "    \n",
    "    while(rightIndex < rightArrLength)\n",
    "    {\n",
    "      mergeArr[resultIndex] = rightArr[rightIndex];\n",
    "      rightIndex++;\n",
    "      resultIndex++;\n",
    "    }\n",
    "    return mergeArr;\n",
    "  }\n",
    "}\n",
    "\n",
    "var solution  = new Solution();\n",
    "var sorted = solution.MergeSort([9,5,1,4,3,6]);\n",
    "Console.WriteLine(string.Join(\",\", sorted));"
   ]
  },
  {
   "cell_type": "code",
   "execution_count": 28,
   "metadata": {
    "dotnet_interactive": {
     "language": "csharp"
    },
    "polyglot_notebook": {
     "kernelName": "csharp"
    },
    "vscode": {
     "languageId": "polyglot-notebook"
    }
   },
   "outputs": [
    {
     "name": "stdout",
     "output_type": "stream",
     "text": [
      "1,3,4,5,6,9\n"
     ]
    }
   ],
   "source": [
    "// Selection sorted\n",
    "public class Solution\n",
    "{\n",
    "  public int[] SelectionSort(int[] array)\n",
    "  {\n",
    "    var size = array.Length;\n",
    "    for (var i=0;i< size; i++)\n",
    "    {\n",
    "      var minimum = i;\n",
    "      for(var j=i+1; j<size; j++)\n",
    "      {\n",
    "        if (array[j]<array[minimum])\n",
    "        {\n",
    "          var temp = array[j];\n",
    "          array[j] = array[minimum];\n",
    "          array[minimum] = temp;\n",
    "          minimum = j - 1;\n",
    "        }\n",
    "      }\n",
    "    }\n",
    "    return array;\n",
    "  }\n",
    "}\n",
    "\n",
    "var solution  = new Solution();\n",
    "var sorted = solution.SelectionSort([9,5,1,4,3,6]);\n",
    "Console.WriteLine(string.Join(\",\", sorted));"
   ]
  },
  {
   "cell_type": "code",
   "execution_count": 19,
   "metadata": {
    "dotnet_interactive": {
     "language": "csharp"
    },
    "polyglot_notebook": {
     "kernelName": "csharp"
    },
    "vscode": {
     "languageId": "polyglot-notebook"
    }
   },
   "outputs": [
    {
     "name": "stdout",
     "output_type": "stream",
     "text": [
      "1,3,4,5,6,9\n"
     ]
    }
   ],
   "source": [
    "// Insertion Sort\n",
    "public class Solution\n",
    "{\n",
    "  public int[] InsertionSort(int[] array)\n",
    "  {\n",
    "    var size = array.Length;\n",
    "    for(var i = 1; i<size; i++)\n",
    "    {\n",
    "      var key = array[i];\n",
    "      for (var j=i-1; j>=0; j--)\n",
    "      {\n",
    "        if (key < array[j])\n",
    "        {\n",
    "          var temp = array[j];\n",
    "          array[j] = key;\n",
    "          array[j+1] = temp;\n",
    "        }\n",
    "      }\n",
    "    }\n",
    "\n",
    "    return array;\n",
    "  }\n",
    "}\n",
    "\n",
    "var solution  = new Solution();\n",
    "var sorted = solution.InsertionSort([9,5,1,4,3,6]);\n",
    "Console.WriteLine(string.Join(\",\", sorted));"
   ]
  }
 ],
 "metadata": {
  "kernelspec": {
   "display_name": ".NET (C#)",
   "language": "C#",
   "name": ".net-csharp"
  },
  "language_info": {
   "name": "python"
  },
  "polyglot_notebook": {
   "kernelInfo": {
    "defaultKernelName": "csharp",
    "items": [
     {
      "aliases": [],
      "name": "csharp"
     }
    ]
   }
  }
 },
 "nbformat": 4,
 "nbformat_minor": 2
}
