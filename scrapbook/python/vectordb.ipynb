{
 "cells": [
  {
   "cell_type": "code",
   "execution_count": 4,
   "metadata": {},
   "outputs": [
    {
     "name": "stdout",
     "output_type": "stream",
     "text": [
      "[('I like apples', np.float32(1.0))]\n",
      "[('I like cars', np.float32(0.5484325)), ('I like dogs', np.float32(0.18951201))]\n"
     ]
    }
   ],
   "source": [
    "import numpy as np\n",
    "from sentence_transformers import SentenceTransformer\n",
    "\n",
    "\n",
    "class VectorStore:\n",
    "    def __init__(self, documents, model):\n",
    "        self.documents = documents\n",
    "        self.vectors = {}\n",
    "        self.embeddings_model = model\n",
    "        self.build()\n",
    "\n",
    "    def build(self):\n",
    "        vectors = self.embeddings_model.encode(self.documents)\n",
    "        for i, doc in enumerate(self.documents):\n",
    "            self.vectors[doc] = vectors[i]\n",
    "\n",
    "    def cosine_similarity(self, u, v):\n",
    "        dot_product = np.dot(u, v)\n",
    "        norm_u = np.linalg.norm(u)\n",
    "        norm_v = np.linalg.norm(v)\n",
    "        return dot_product / (norm_u * norm_v)\n",
    "\n",
    "    def get_top_n(self, query, n=5):\n",
    "        scores = {}\n",
    "        for key in self.vectors:\n",
    "            embedded_query = self.embeddings_model.encode([query])[0]\n",
    "            scores[key] = self.cosine_similarity(embedded_query, self.vectors[key])\n",
    "        return sorted(scores.items(), key=lambda x: x[1], reverse=True)[:n]\n",
    "\n",
    "\n",
    "docs = [\"I like apples\", \"I like pears\", \"I like dogs\", \"I like cats\", \"I like cars\"]\n",
    "model = SentenceTransformer(\"all-MiniLM-L6-v2\")\n",
    "vs = VectorStore(docs, model)\n",
    "print(vs.get_top_n(\"I like apples\", n=1))\n",
    "print(vs.get_top_n(\"vehicles\", n=2))"
   ]
  }
 ],
 "metadata": {
  "kernelspec": {
   "display_name": "Python 3",
   "language": "python",
   "name": "python3"
  },
  "language_info": {
   "codemirror_mode": {
    "name": "ipython",
    "version": 3
   },
   "file_extension": ".py",
   "mimetype": "text/x-python",
   "name": "python",
   "nbconvert_exporter": "python",
   "pygments_lexer": "ipython3",
   "version": "3.12.4"
  }
 },
 "nbformat": 4,
 "nbformat_minor": 2
}
