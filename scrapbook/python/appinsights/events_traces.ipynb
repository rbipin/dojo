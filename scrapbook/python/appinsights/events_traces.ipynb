{
 "cells": [
  {
   "cell_type": "code",
   "execution_count": 3,
   "metadata": {
    "dotnet_interactive": {
     "language": "csharp"
    },
    "polyglot_notebook": {
     "kernelName": "csharp"
    }
   },
   "outputs": [
    {
     "name": "stdout",
     "output_type": "stream",
     "text": [
      "d2760304-0ebf-4ccf-ab1f-b394738be07c\n"
     ]
    }
   ],
   "source": [
    "from dotenv import load_dotenv\n",
    "from pathlib import Path\n",
    "import os\n",
    "\n",
    "dotenv_path = Path('.env')\n",
    "load_dotenv(dotenv_path=dotenv_path)\n",
    "\n",
    "instrumention_key = os.getenv(\"instrumentaion_key\")\n",
    "print(instrumention_key)"
   ]
  },
  {
   "cell_type": "code",
   "execution_count": 5,
   "metadata": {
    "dotnet_interactive": {
     "language": "csharp"
    },
    "polyglot_notebook": {
     "kernelName": "csharp"
    }
   },
   "outputs": [],
   "source": [
    "from applicationinsights import TelemetryClient\n",
    "from dotenv import load_dotenv\n",
    "from pathlib import Path\n",
    "\n",
    "\n",
    "def LoadEnv() -> None:\n",
    "    dotenv_path = Path(\".env\")\n",
    "    load_dotenv(dotenv_path=dotenv_path)\n",
    "\n",
    "LoadEnv()\n",
    "instrumentaion_key = os.getenv(\"instrumentaion_key\")\n",
    "tc = TelemetryClient(instrumentaion_key)\n",
    "tc.context.application.ver = \"0.1\"\n",
    "print('Writing events and traces')\n",
    "# events\n",
    "tc.track_event(\n",
    "   \"TestBackwardSyncProcess\",\n",
    "    {\"PO Number\": 5015785785, \"Unit\": 325, \"Status\": \"Completed\"},\n",
    ")\n",
    "# traces\n",
    "tc.track_trace(\n",
    "   \"TestBackwardSyncProcess\", {\"PO Number\": 5015785785, \"Unit\": 325, \"Status\": \"Completed\"}\n",
    ")\n",
    "tc.flush()"
   ]
  },
  {
   "cell_type": "code",
   "execution_count": null,
   "metadata": {},
   "outputs": [],
   "source": []
  }
 ],
 "metadata": {
  "kernelspec": {
   "display_name": "Python 3",
   "language": "python",
   "name": "python3"
  },
  "language_info": {
   "codemirror_mode": {
    "name": "ipython",
    "version": 3
   },
   "file_extension": ".py",
   "mimetype": "text/x-python",
   "name": "python",
   "nbconvert_exporter": "python",
   "pygments_lexer": "ipython3",
   "version": "3.12.0"
  },
  "polyglot_notebook": {
   "kernelInfo": {
    "defaultKernelName": "csharp",
    "items": [
     {
      "aliases": [],
      "name": "csharp"
     }
    ]
   }
  }
 },
 "nbformat": 4,
 "nbformat_minor": 2
}
