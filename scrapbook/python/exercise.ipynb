{
 "cells": [
  {
   "cell_type": "code",
   "execution_count": 24,
   "metadata": {},
   "outputs": [
    {
     "name": "stdout",
     "output_type": "stream",
     "text": [
      "Matrix: 4 X 5\n",
      "Total Islands 2\n"
     ]
    }
   ],
   "source": [
    "# number of islands\n",
    "def number_of_islands(input):\n",
    "    row_count = len(input) - 1\n",
    "    col_count = len(input[0]) - 1\n",
    "    print(f\"Matrix: {row_count + 1} X {col_count + 1}\")\n",
    "    island_count = 0\n",
    "    for row, rowitem in enumerate(input):\n",
    "        for col, item in enumerate(rowitem):\n",
    "            if item == 0:\n",
    "                continue\n",
    "            if item == 1:\n",
    "                island_count += 1\n",
    "                input[row][col] = 2\n",
    "            visit_neighbours(input, row, col, row_count, col_count)\n",
    "    print(f\"Total Islands {island_count}\")\n",
    "\n",
    "\n",
    "def visit_neighbours(input, row, col, row_count, col_count):\n",
    "    neighbours = []\n",
    "    if row > 0 and col > 0:\n",
    "        neighbours.append((row - 1, col - 1))\n",
    "        neighbours.append((row, col - 1))\n",
    "    if col < col_count:\n",
    "        neighbours.append((row, col + 1))\n",
    "    if row < row_count:\n",
    "        neighbours.append((row + 1, col))\n",
    "    for item in neighbours:\n",
    "        row_index = item[0]\n",
    "        col_index = item[1]\n",
    "        if input[row_index][col_index] == 1:\n",
    "            input[row_index][col_index] = 2\n",
    "\n",
    "\n",
    "arr = [[1, 0, 0, 0, 0], [0, 0, 0, 0, 0], [0, 0, 0, 0, 0], [1, 1, 1, 1, 1]]\n",
    "number_of_islands(arr)"
   ]
  },
  {
   "cell_type": "code",
   "execution_count": 4,
   "metadata": {},
   "outputs": [
    {
     "name": "stdout",
     "output_type": "stream",
     "text": [
      "0\n"
     ]
    }
   ],
   "source": [
    "# sign of product of numbers\n",
    "def sign_func(numbers) -> int:\n",
    "    result = 1\n",
    "    for number in numbers:\n",
    "        if number == 0:\n",
    "            return 0\n",
    "        if number < 0:\n",
    "            result = result * -1\n",
    "    return result\n",
    "\n",
    "\n",
    "x = sign_func([1, 2, 4, 6, 8])\n",
    "\n",
    "\n",
    "print(x)"
   ]
  }
 ],
 "metadata": {
  "kernelspec": {
   "display_name": "Python 3",
   "language": "python",
   "name": "python3"
  },
  "language_info": {
   "codemirror_mode": {
    "name": "ipython",
    "version": 3
   },
   "file_extension": ".py",
   "mimetype": "text/x-python",
   "name": "python",
   "nbconvert_exporter": "python",
   "pygments_lexer": "ipython3",
   "version": "3.12.0"
  }
 },
 "nbformat": 4,
 "nbformat_minor": 2
}
