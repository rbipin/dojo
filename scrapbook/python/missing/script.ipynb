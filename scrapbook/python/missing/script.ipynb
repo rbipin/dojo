{
 "cells": [
  {
   "cell_type": "code",
   "execution_count": 5,
   "metadata": {},
   "outputs": [
    {
     "name": "stdout",
     "output_type": "stream",
     "text": [
      "    PONumber Unit     LoadId VendorShipId\n",
      "0  113167371  174  113794761    113794761\n",
      "1  113167814  285  113796465    113796465\n",
      "2  113168480  215  113798906    113798906\n",
      "3  113168828  177  113800948    113800948\n",
      "4  215614020  279  113802749    113802750\n",
      "5  215614020  296  113802615    113802616\n",
      "6  215614020  319  113801489    113801490\n"
     ]
    }
   ],
   "source": [
    "import pandas as pd\n",
    "\n",
    "file_name = \"POs_29thJan.xlsx\"\n",
    "columns = [\"PONumber\", \"Unit\", \"LoadId\", \"VendorShipId\"]\n",
    "df_core = pd.read_excel(file_name, sheet_name=\"Core\", index_col=None, header=0)\n",
    "df_mprs_gdsd = pd.read_excel(\n",
    "    file_name, sheet_name=\"MPRS_GDSD\", index_col=None, header=0\n",
    ")\n",
    "df_mprs_fdsd = pd.read_excel(\n",
    "    file_name, sheet_name=\"MPRS_FDSD\", index_col=None, header=0\n",
    ")\n",
    "# aggregage the columns into one key\n",
    "df_core[\"key\"] = df_core[columns].astype(str).agg(\"-\".join, axis=1)\n",
    "df_mprs_gdsd[\"key\"] = df_mprs_gdsd[columns].astype(str).agg(\"-\".join, axis=1)\n",
    "df_mprs_fdsd[\"key\"] = df_mprs_fdsd[columns].astype(str).agg(\"-\".join, axis=1)\n",
    "# print(df_core)\n",
    "# print(df_mprs_gdsd)\n",
    "# print(df_mprs_fdsd)\n",
    "# print(df_mprs_fdsd.PONumber)\n",
    "# combine the mprs records\n",
    "mprs_po = pd.concat([df_mprs_gdsd.key, df_mprs_fdsd.key])\n",
    "\n",
    "# index the values\n",
    "core_po_index = pd.Index(df_core.key)\n",
    "mprs_po_index = pd.Index(mprs_po)\n",
    "# mprs_gdsd_index = pd.Index(df_mprs_gdsd.PONumber)\n",
    "# mprs_fdsd_index = pd.Index(df_mprs_fdsd.PONumber)\n",
    "print(f\"MPRS: {len(mprs_po_index)}\")\n",
    "print(f\"Core: {len(core_po_index)}\")\n",
    "missing_records = mprs_po_index.difference(core_po_index).values\n",
    "data = []\n",
    "for record in missing_records:\n",
    "    split_records = record.split(\"-\")\n",
    "    data.append(split_records)\n",
    "df = pd.DataFrame(data, columns=columns)\n",
    "print(df)"
   ]
  }
 ],
 "metadata": {
  "kernelspec": {
   "display_name": "Python 3",
   "language": "python",
   "name": "python3"
  },
  "language_info": {
   "codemirror_mode": {
    "name": "ipython",
    "version": 3
   },
   "file_extension": ".py",
   "mimetype": "text/x-python",
   "name": "python",
   "nbconvert_exporter": "python",
   "pygments_lexer": "ipython3",
   "version": "3.12.0"
  }
 },
 "nbformat": 4,
 "nbformat_minor": 2
}
