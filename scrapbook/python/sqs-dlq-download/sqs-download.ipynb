{
 "cells": [
  {
   "cell_type": "code",
   "execution_count": null,
   "metadata": {},
   "outputs": [],
   "source": [
    "import boto3\n",
    "import urllib3\n",
    "\n",
    "urllib3.disable_warnings(urllib3.exceptions.InsecureRequestWarning)\n",
    "import math\n",
    "\n",
    "queueUrl = \"\"\n",
    "# queueUrl = ''\n",
    "sqs = boto3.client(\"sqs\", verify=False)\n",
    "queueAttributes = sqs.get_queue_attributes(QueueUrl=queueUrl, AttributeNames=[\"All\"])\n",
    "numberOfMessagesAvailable = queueAttributes[\"Attributes\"][\"ApproximateNumberOfMessages\"]\n",
    "numberOfMessagesNotVisible = queueAttributes[\"Attributes\"][\n",
    "    \"ApproximateNumberOfMessagesNotVisible\"\n",
    "]\n",
    "totalNumberOfMessages = int(numberOfMessagesAvailable) + int(numberOfMessagesNotVisible)\n",
    "count = math.ceil(int(numberOfMessagesAvailable) / 10)\n",
    "data_list = []\n",
    "print(f\"Total Number Of Messages {numberOfMessagesAvailable}\")\n",
    "\n",
    "for i in range(count):\n",
    "    queue = sqs.receive_message(\n",
    "        QueueUrl=queueUrl, AttributeNames=[\"All\"], MaxNumberOfMessages=10\n",
    "    )\n",
    "    messages = queue.get(\"Messages\")\n",
    "    if messages == None:\n",
    "        continue\n",
    "    for message in messages:\n",
    "        if message == None:\n",
    "            continue\n",
    "        data_list.append(message.get(\"Body\"))\n",
    "\n",
    "print(f\"Messages Received Count: {len(data_list)}\")\n",
    "for item in data_list:\n",
    "    print(item)"
   ]
  },
  {
   "cell_type": "markdown",
   "metadata": {},
   "source": []
  }
 ],
 "metadata": {
  "kernelspec": {
   "display_name": "Python 3.10.4 64-bit",
   "language": "python",
   "name": "python3"
  },
  "language_info": {
   "codemirror_mode": {
    "name": "ipython",
    "version": 3
   },
   "file_extension": ".py",
   "mimetype": "text/x-python",
   "name": "python",
   "nbconvert_exporter": "python",
   "pygments_lexer": "ipython3",
   "version": "3.10.4"
  },
  "orig_nbformat": 4,
  "vscode": {
   "interpreter": {
    "hash": "7e1998ff7f8aa20ada591c520b972326324e5ea05489af9e422744c7c09f6dad"
   }
  }
 },
 "nbformat": 4,
 "nbformat_minor": 2
}
