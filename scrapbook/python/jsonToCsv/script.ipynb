{
 "cells": [
  {
   "cell_type": "code",
   "execution_count": 2,
   "metadata": {},
   "outputs": [],
   "source": [
    "import pandas as pd\n",
    "import json\n",
    "from io import StringIO\n",
    "\n",
    "with open(\"data.json\", encoding=\"utf-8\") as inputfile:\n",
    "    data = inputfile.read()\n",
    "    json_data = json.loads(data)\n",
    "    to_sanitize = json_data[\"reconciliationDetails\"]  # this part is in string format\n",
    "    json_data = json.loads(to_sanitize)\n",
    "    json_str = json.dumps(json_data)\n",
    "    df = pd.read_json(StringIO(json_str))\n",
    "    # print(df)\n",
    "\n",
    "df.to_csv(\"report.csv\", encoding=\"utf-8\", index=False)"
   ]
  }
 ],
 "metadata": {
  "kernelspec": {
   "display_name": "Python 3",
   "language": "python",
   "name": "python3"
  },
  "language_info": {
   "codemirror_mode": {
    "name": "ipython",
    "version": 3
   },
   "file_extension": ".py",
   "mimetype": "text/x-python",
   "name": "python",
   "nbconvert_exporter": "python",
   "pygments_lexer": "ipython3",
   "version": "3.12.0"
  }
 },
 "nbformat": 4,
 "nbformat_minor": 2
}
