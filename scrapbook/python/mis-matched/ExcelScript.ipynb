{
 "cells": [
  {
   "cell_type": "code",
   "execution_count": 3,
   "metadata": {},
   "outputs": [
    {
     "name": "stderr",
     "output_type": "stream",
     "text": [
      "c:\\Python312\\Lib\\site-packages\\openpyxl\\styles\\stylesheet.py:226: UserWarning: Workbook contains no default style, apply openpyxl's default\n",
      "  warn(\"Workbook contains no default style, apply openpyxl's default\")\n"
     ]
    }
   ],
   "source": [
    "import pandas as pd \n",
    "import numpy as np\n",
    "from collections import namedtuple\n",
    "# setup\n",
    "\n",
    "columns_filter = [\n",
    "    \"date\",\n",
    "    \"LD_ID\",\n",
    "    \"loadId\",\n",
    "    \"UT_ID\",\n",
    "    \"unit\",\n",
    "    \"VDR_SHP_ID\",\n",
    "    \"MPRS PO\",\n",
    "    \"purchaseOrder\",\n",
    "    \"MPRS GRSS CST\",\n",
    "    \"grossCost\",\n",
    "    \"MPRS NET CST\",\n",
    "    \"netCost\",\n",
    "    \"MPRS LIST CST\",\n",
    "    \"meijerListCost\",\n",
    "    \"MPRS VDRLIST\",\n",
    "    \"vendorList\",\n",
    "    \"MPRS WGT RCV\",\n",
    "    \"receiveWeight\",\n",
    "]\n",
    "column_map = namedtuple(\"ColMap\", \"mprs_col core_col diff_col\")\n",
    "columns_mprs_core = [\n",
    "    column_map(\"MPRS GRSS CST\", \"grossCost\", \"diff_grossCost\"),\n",
    "    column_map(\"MPRS NET CST\", \"netCost\", \"diff_netCost\"),\n",
    "    column_map(\"MPRS LIST CST\", \"meijerListCost\", \"diff_meijerListCost\"),\n",
    "    column_map(\"MPRS VDRLIST\", \"vendorList\", \"diff_vendorList\"),\n",
    "    column_map(\"MPRS WGT RCV\", \"receiveWeight\", \"diff_receiveWeight\"),\n",
    "]\n",
    "\n",
    "# Identify the mis-matches and difference\n",
    "def find_mismtach_summary(df):\n",
    "    summarized_data = {}\n",
    "    for col in columns_mprs_core:\n",
    "        summarized_data[col.diff_col] = df[col.mprs_col] - df[col.core_col]\n",
    "    df1 = pd.concat(summarized_data, axis=1)\n",
    "    return df1\n",
    "\n",
    "# Read Excel Sheet\n",
    "df = pd.read_excel(\"data.xlsx\", engine=\"openpyxl\", usecols=columns_filter)\n",
    "df = df.fillna(0)\n",
    "\n",
    "df1 = find_mismtach_summary(df)\n",
    "#Merge the data set with identified difference\n",
    "df2 = (pd.concat([df, df1], axis=1))\n",
    "filter_df = df2[(df2['diff_grossCost'] != 0)\n",
    "                | (df2['diff_netCost']!=0)\n",
    "                | (df2['diff_meijerListCost'] != 0)\n",
    "                | (df2['diff_vendorList']!=0)\n",
    "                | (df2['diff_receiveWeight'] != 0)]\n",
    "\n",
    "filter_df.to_excel(\"mismatch1.xlsx\")"
   ]
  },
  {
   "cell_type": "code",
   "execution_count": 4,
   "metadata": {},
   "outputs": [
    {
     "name": "stdout",
     "output_type": "stream",
     "text": [
      "                  Name  Penny  PennyPercentage  Mismatch  MismatchPercentage  \\\n",
      "0       diff_grossCost     19         0.014745       362            0.280925   \n",
      "1         diff_netCost   2991         2.321124      7153            5.550986   \n",
      "2  diff_meijerListCost     61         0.047338      2591            2.010709   \n",
      "3      diff_vendorList     47         0.036474      2627            2.038647   \n",
      "4   diff_receiveWeight   3605         2.797610      3852            2.989291   \n",
      "\n",
      "    Equal  EqualPercentage  \n",
      "0  128479        99.704330  \n",
      "1  118716        92.127891  \n",
      "2  126208        97.941953  \n",
      "3  126186        97.924880  \n",
      "4  121403        94.213099  \n"
     ]
    }
   ],
   "source": [
    "# column name list  \n",
    "# Define a method to calculate the percentage of each column greater than 5 and less than 10\n",
    "def percentage_between (df):\n",
    "    col_names =  ['Name','Penny','PennyPercentage','Mismatch','MismatchPercentage','Equal','EqualPercentage']   \n",
    "    analytical_df  = pd.DataFrame(columns = col_names) \n",
    "    colNames = df.columns.tolist()\n",
    "    for colName in colNames:\n",
    "        # Count the number of values between low and high in each column\n",
    "        pennydifference = df[colName].between(0.000001,0.999999).sum() + df[colName].between(-0.999999,-0.000001).sum()       \n",
    "        pennydifferencePercentage = pennydifference / len(df) * 100\n",
    "        totalmismatch = df[colName].gt(0.99999).sum() + df[colName].lt(-0.99999).sum()\n",
    "        totalmismatchPercentage = totalmismatch / len(df) * 100\n",
    "        totalequal = df[colName].eq(0).sum()\n",
    "        totalequalPercentage = totalequal / len(df) * 100\n",
    "        # New list for append into df\n",
    "        list = [colName, pennydifference,pennydifferencePercentage,totalmismatch ,totalmismatchPercentage,totalequal ,totalequalPercentage]\n",
    "        analytical_df.loc[len(analytical_df)] = list\n",
    "        \n",
    "    # Return the percentage as a data frame  \n",
    "    return analytical_df\n",
    "# Apply the function to the data frame with different thresholds\n",
    "df_percentage = percentage_between (df1)\n",
    "print(df_percentage)\n",
    "\n"
   ]
  }
 ],
 "metadata": {
  "kernelspec": {
   "display_name": "Python 3",
   "language": "python",
   "name": "python3"
  },
  "language_info": {
   "codemirror_mode": {
    "name": "ipython",
    "version": 3
   },
   "file_extension": ".py",
   "mimetype": "text/x-python",
   "name": "python",
   "nbconvert_exporter": "python",
   "pygments_lexer": "ipython3",
   "version": "3.12.0"
  }
 },
 "nbformat": 4,
 "nbformat_minor": 2
}
