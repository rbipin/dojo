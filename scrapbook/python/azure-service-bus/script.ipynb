{
 "cells": [
  {
   "cell_type": "code",
   "execution_count": 8,
   "metadata": {},
   "outputs": [
    {
     "name": "stdout",
     "output_type": "stream",
     "text": [
      "Starting Receiving Messages from SB: sb-ea2-core-jcza6-int.servicebus.windows.net TOPIC: sbt-posting, Subscription Name: sbs-backward-sync-02\n",
      "--------------------------------------------------------------------\n"
     ]
    },
    {
     "ename": "TypeError",
     "evalue": "'ServiceBusReceiver' object does not support the context manager protocol",
     "output_type": "error",
     "traceback": [
      "\u001b[1;31m---------------------------------------------------------------------------\u001b[0m",
      "\u001b[1;31mTypeError\u001b[0m                                 Traceback (most recent call last)",
      "Cell \u001b[1;32mIn[8], line 34\u001b[0m\n\u001b[0;32m     30\u001b[0m \u001b[38;5;28mprint\u001b[39m(\n\u001b[0;32m     31\u001b[0m     \u001b[38;5;124mf\u001b[39m\u001b[38;5;124m\"\u001b[39m\u001b[38;5;124mStarting Receiving Messages from SB: \u001b[39m\u001b[38;5;132;01m{\u001b[39;00mFULLY_QUALIFIED_NAMESPACE\u001b[38;5;132;01m}\u001b[39;00m\u001b[38;5;124m TOPIC: \u001b[39m\u001b[38;5;132;01m{\u001b[39;00mTOPIC_NAME\u001b[38;5;132;01m}\u001b[39;00m\u001b[38;5;124m, Subscription Name: \u001b[39m\u001b[38;5;132;01m{\u001b[39;00mSUBSCRIPTION_NAME\u001b[38;5;132;01m}\u001b[39;00m\u001b[38;5;124m\"\u001b[39m\n\u001b[0;32m     32\u001b[0m )\n\u001b[0;32m     33\u001b[0m \u001b[38;5;28mprint\u001b[39m(\u001b[38;5;124m\"\u001b[39m\u001b[38;5;124m--------------------------------------------------------------------\u001b[39m\u001b[38;5;124m\"\u001b[39m)\n\u001b[1;32m---> 34\u001b[0m \u001b[38;5;28;01mawait\u001b[39;00m run()\n\u001b[0;32m     35\u001b[0m \u001b[38;5;28mprint\u001b[39m(\u001b[38;5;124m\"\u001b[39m\u001b[38;5;124m--------------------------------------------------------------------\u001b[39m\u001b[38;5;124m\"\u001b[39m)\n\u001b[0;32m     36\u001b[0m \u001b[38;5;28mprint\u001b[39m(\u001b[38;5;124m\"\u001b[39m\u001b[38;5;124mCompleted\u001b[39m\u001b[38;5;124m\"\u001b[39m)\n",
      "Cell \u001b[1;32mIn[8], line 19\u001b[0m, in \u001b[0;36mrun\u001b[1;34m()\u001b[0m\n\u001b[0;32m     13\u001b[0m \u001b[38;5;28;01masync\u001b[39;00m \u001b[38;5;28;01mdef\u001b[39;00m \u001b[38;5;21mrun\u001b[39m():\n\u001b[0;32m     14\u001b[0m     \u001b[38;5;28;01masync\u001b[39;00m \u001b[38;5;28;01mwith\u001b[39;00m ServiceBusClient(\n\u001b[0;32m     15\u001b[0m         fully_qualified_namespace\u001b[38;5;241m=\u001b[39mFULLY_QUALIFIED_NAMESPACE,\n\u001b[0;32m     16\u001b[0m         credential\u001b[38;5;241m=\u001b[39mcredential,\n\u001b[0;32m     17\u001b[0m         logging_enable\u001b[38;5;241m=\u001b[39m\u001b[38;5;28;01mTrue\u001b[39;00m,\n\u001b[0;32m     18\u001b[0m     ) \u001b[38;5;28;01mas\u001b[39;00m servicebus_client:\n\u001b[1;32m---> 19\u001b[0m \u001b[43m        \u001b[49m\u001b[38;5;28;43;01mwith\u001b[39;49;00m\u001b[43m \u001b[49m\u001b[43mservicebus_client\u001b[49m\u001b[38;5;241;43m.\u001b[39;49m\u001b[43mget_subscription_receiver\u001b[49m\u001b[43m(\u001b[49m\n\u001b[0;32m     20\u001b[0m \u001b[43m            \u001b[49m\u001b[43mtopic_name\u001b[49m\u001b[38;5;241;43m=\u001b[39;49m\u001b[43mTOPIC_NAME\u001b[49m\u001b[43m,\u001b[49m\n\u001b[0;32m     21\u001b[0m \u001b[43m            \u001b[49m\u001b[43mServiceBusReceiveMode\u001b[49m\u001b[38;5;241;43m=\u001b[39;49m\u001b[43mServiceBusReceiveMode\u001b[49m\u001b[38;5;241;43m.\u001b[39;49m\u001b[43mRECEIVE_AND_DELETE\u001b[49m\u001b[43m,\u001b[49m\n\u001b[0;32m     22\u001b[0m \u001b[43m            \u001b[49m\u001b[43msession_id\u001b[49m\u001b[38;5;241;43m=\u001b[39;49m\u001b[43mNEXT_AVAILABLE_SESSION\u001b[49m\u001b[43m,\u001b[49m\n\u001b[0;32m     23\u001b[0m \u001b[43m            \u001b[49m\u001b[43msubscription_name\u001b[49m\u001b[38;5;241;43m=\u001b[39;49m\u001b[43mSUBSCRIPTION_NAME\u001b[49m\u001b[43m,\u001b[49m\n\u001b[0;32m     24\u001b[0m \u001b[43m            \u001b[49m\u001b[43mprefetch_count\u001b[49m\u001b[38;5;241;43m=\u001b[39;49m\u001b[38;5;241;43m20\u001b[39;49m\u001b[43m,\u001b[49m\n\u001b[0;32m     25\u001b[0m \u001b[43m        \u001b[49m\u001b[43m)\u001b[49m\u001b[43m \u001b[49m\u001b[38;5;28;43;01mas\u001b[39;49;00m\u001b[43m \u001b[49m\u001b[43mreceiver\u001b[49m\u001b[43m:\u001b[49m\u001b[43m           \u001b[49m\n\u001b[0;32m     26\u001b[0m \u001b[43m            \u001b[49m\u001b[43mreceived_msgs\u001b[49m\u001b[43m \u001b[49m\u001b[38;5;241;43m=\u001b[39;49m\u001b[43m \u001b[49m\u001b[43mreceiver\u001b[49m\u001b[38;5;241;43m.\u001b[39;49m\u001b[43mreceive_messages\u001b[49m\u001b[43m(\u001b[49m\u001b[43mmax_message_count\u001b[49m\u001b[38;5;241;43m=\u001b[39;49m\u001b[38;5;241;43m10\u001b[39;49m\u001b[43m,\u001b[49m\u001b[43m \u001b[49m\u001b[43mmax_wait_time\u001b[49m\u001b[38;5;241;43m=\u001b[39;49m\u001b[38;5;241;43m5\u001b[39;49m\u001b[43m)\u001b[49m\n\u001b[0;32m     27\u001b[0m \u001b[43m            \u001b[49m\u001b[38;5;28;43;01mfor\u001b[39;49;00m\u001b[43m \u001b[49m\u001b[43mmessage\u001b[49m\u001b[43m \u001b[49m\u001b[38;5;129;43;01min\u001b[39;49;00m\u001b[43m \u001b[49m\u001b[43mreceived_msgs\u001b[49m\u001b[43m:\u001b[49m\n",
      "\u001b[1;31mTypeError\u001b[0m: 'ServiceBusReceiver' object does not support the context manager protocol"
     ]
    }
   ],
   "source": [
    "from azure.servicebus import (\n",
    "    ServiceBusReceiveMode,\n",
    "    NEXT_AVAILABLE_SESSION,\n",
    "    AutoLockRenewer,\n",
    ")\n",
    "from azure.servicebus.aio import ServiceBusClient\n",
    "from azure.identity.aio import DefaultAzureCredential\n",
    "\n",
    "FULLY_QUALIFIED_NAMESPACE = \"\"\n",
    "TOPIC_NAME = \"\"\n",
    "SUBSCRIPTION_NAME = \"\"\n",
    "credential = DefaultAzureCredential()\n",
    "\n",
    "\n",
    "async def run():\n",
    "    async with ServiceBusClient(\n",
    "        fully_qualified_namespace=FULLY_QUALIFIED_NAMESPACE,\n",
    "        credential=credential,\n",
    "        logging_enable=True,\n",
    "    ) as servicebus_client:\n",
    "        with servicebus_client.get_subscription_receiver(\n",
    "            topic_name=TOPIC_NAME,\n",
    "            ServiceBusReceiveMode=ServiceBusReceiveMode.RECEIVE_AND_DELETE,\n",
    "            session_id=NEXT_AVAILABLE_SESSION,\n",
    "            subscription_name=SUBSCRIPTION_NAME,\n",
    "            prefetch_count=20,\n",
    "        ) as receiver:\n",
    "            received_msgs = receiver.receive_messages(\n",
    "                max_message_count=10, max_wait_time=5\n",
    "            )\n",
    "            for message in received_msgs:\n",
    "                receiver.complete_message(message)\n",
    "\n",
    "\n",
    "print(\n",
    "    f\"Starting Receiving Messages from SB: {FULLY_QUALIFIED_NAMESPACE} TOPIC: {TOPIC_NAME}, Subscription Name: {SUBSCRIPTION_NAME}\"\n",
    ")\n",
    "print(\"--------------------------------------------------------------------\")\n",
    "await run()\n",
    "print(\"--------------------------------------------------------------------\")\n",
    "print(\"Completed\")"
   ]
  },
  {
   "cell_type": "code",
   "execution_count": 25,
   "metadata": {},
   "outputs": [
    {
     "name": "stdout",
     "output_type": "stream",
     "text": [
      "Starting Receiving Messages from SB: sb-ea2-core-jcza6-int.servicebus.windows.net TOPIC: sbt-posting, Subscription Name: sbs-backward-sync-02\n",
      "--------------------------------------------------------------------\n",
      "--------------------------------------------------------------------\n",
      "Completed\n"
     ]
    }
   ],
   "source": [
    "from azure.servicebus.aio import ServiceBusClient\n",
    "from azure.servicebus import (\n",
    "    ServiceBusReceiveMode,\n",
    "    NEXT_AVAILABLE_SESSION,\n",
    "    AutoLockRenewer,\n",
    ")\n",
    "from azure.identity.aio import DefaultAzureCredential\n",
    "\n",
    "FULLY_QUALIFIED_NAMESPACE = \"\"\n",
    "TOPIC_NAME = \"\"\n",
    "SUBSCRIPTION_NAME = \"\"\n",
    "credential = DefaultAzureCredential()\n",
    "\n",
    "\n",
    "async def run():\n",
    "    async with ServiceBusClient(\n",
    "        fully_qualified_namespace=FULLY_QUALIFIED_NAMESPACE,\n",
    "        credential=credential,\n",
    "        logging_enable=True,\n",
    "    ) as servicebus_client:\n",
    "        receiver = servicebus_client.get_subscription_receiver(\n",
    "            topic_name=TOPIC_NAME,\n",
    "            subscription_name=SUBSCRIPTION_NAME,\n",
    "            ServiceBusReceiveMode=ServiceBusReceiveMode.RECEIVE_AND_DELETE,\n",
    "            session_id=NEXT_AVAILABLE_SESSION,\n",
    "        )\n",
    "\n",
    "        async with receiver:\n",
    "            while True:\n",
    "                received_msgs = await receiver.receive_messages(\n",
    "                    max_message_count=26, max_wait_time=5\n",
    "                )\n",
    "                for msg in received_msgs:\n",
    "                    await receiver.complete_message(msg)\n",
    "\n",
    "\n",
    "print(\n",
    "    f\"Starting Receiving Messages from SB: {FULLY_QUALIFIED_NAMESPACE} TOPIC: {TOPIC_NAME}, Subscription Name: {SUBSCRIPTION_NAME}\"\n",
    ")\n",
    "print(\"--------------------------------------------------------------------\")\n",
    "await run()\n",
    "print(\"--------------------------------------------------------------------\")\n",
    "print(\"Completed\")"
   ]
  },
  {
   "cell_type": "markdown",
   "metadata": {},
   "source": [
    "## Receive and Delete from Deadletter\n"
   ]
  },
  {
   "cell_type": "code",
   "execution_count": 3,
   "metadata": {},
   "outputs": [
    {
     "name": "stdout",
     "output_type": "stream",
     "text": [
      "Starting Receiving Messages from Service Bus SB: sb-ea2-core-jcza6-int.servicebus.windows.net, TOPIC: sbt-posting\n",
      "--------------------------------------------------------------------\n",
      "--------------------------------------------------------------------\n",
      "Completed\n"
     ]
    }
   ],
   "source": [
    "from azure.servicebus.aio import ServiceBusClient\n",
    "from azure.servicebus import ServiceBusSubQueue\n",
    "from azure.identity.aio import DefaultAzureCredential\n",
    "\n",
    "FULLY_QUALIFIED_NAMESPACE = \"\"\n",
    "TOPIC_NAME = \"\"\n",
    "SUBSCRIPTION_NAME = \"\"\n",
    "credential = DefaultAzureCredential()\n",
    "\n",
    "\n",
    "async def run():\n",
    "    async with ServiceBusClient(\n",
    "        fully_qualified_namespace=FULLY_QUALIFIED_NAMESPACE,\n",
    "        credential=credential,\n",
    "        logging_enable=True,\n",
    "    ) as servicebus_client:\n",
    "        dlq_receiver = servicebus_client.get_subscription_receiver(\n",
    "            topic_name=TOPIC_NAME,\n",
    "            subscription_name=SUBSCRIPTION_NAME,\n",
    "            sub_queue=ServiceBusSubQueue.DEAD_LETTER,\n",
    "            prefetch_count=20,\n",
    "        )\n",
    "        completed = False\n",
    "        async with dlq_receiver:\n",
    "            while not completed:\n",
    "                peekMessages = await dlq_receiver.peek_messages(max_message_count=10)\n",
    "                if not peekMessages:\n",
    "                    completed = True\n",
    "                    continue\n",
    "                received_msgs = await dlq_receiver.receive_messages(\n",
    "                    max_message_count=26, max_wait_time=5\n",
    "                )\n",
    "                for msg in received_msgs:\n",
    "                    await dlq_receiver.complete_message(msg)\n",
    "\n",
    "\n",
    "print(\n",
    "    f\"Starting Receiving Messages from Service Bus SB: {FULLY_QUALIFIED_NAMESPACE}, TOPIC: {TOPIC_NAME}, DeadLetter\"\n",
    ")\n",
    "print(\"--------------------------------------------------------------------\")\n",
    "await run()\n",
    "print(\"--------------------------------------------------------------------\")\n",
    "print(\"Completed\")"
   ]
  },
  {
   "cell_type": "markdown",
   "metadata": {},
   "source": [
    "# Send To sbt-Posting with Session Id\n"
   ]
  },
  {
   "cell_type": "code",
   "execution_count": 1,
   "metadata": {},
   "outputs": [
    {
     "name": "stdout",
     "output_type": "stream",
     "text": [
      "Starting Sending Messages to Service Bus SB: sb-ea2-core-6t6td-cert.servicebus.windows.net, TOPIC: sbt-posting\n",
      "--------------------------------------------------------------------\n",
      "1: 88692615318 - 653 - productInventory\n",
      "posting-653-88692615318\n",
      "Sent message\n",
      "--------------------------------------------------------------------\n",
      "Completed\n"
     ]
    }
   ],
   "source": [
    "import json\n",
    "from azure.servicebus.aio import ServiceBusClient\n",
    "from azure.servicebus import ServiceBusMessage\n",
    "from azure.identity.aio import DefaultAzureCredential\n",
    "\n",
    "FULLY_QUALIFIED_NAMESPACE = \"\"\n",
    "TOPIC_NAME = \"\"\n",
    "credential = DefaultAzureCredential()\n",
    "\n",
    "\n",
    "async def run():\n",
    "    async with ServiceBusClient(\n",
    "        fully_qualified_namespace=FULLY_QUALIFIED_NAMESPACE,\n",
    "        credential=credential,\n",
    "        logging_enable=True,\n",
    "    ) as servicebus_client:\n",
    "        sender = servicebus_client.get_topic_sender(topic_name=TOPIC_NAME)\n",
    "        with open(\"single-record.json\") as json_file:\n",
    "            data = json.load(json_file)\n",
    "            count = 0\n",
    "            for record in data:\n",
    "                count += 1\n",
    "                print(\n",
    "                    f\"{count}: {record['upc']} - {record['unit']} - {record['auditDocumentType']}\"\n",
    "                )\n",
    "                session_id = f\"posting-{record['unit']}-{record['upc']}\"\n",
    "                custom_properties = {\"auditDocumentType\": record[\"auditDocumentType\"]}\n",
    "                message = json.dumps(record)\n",
    "                await send_message(sender, message, session_id, custom_properties)\n",
    "\n",
    "\n",
    "async def send_message(sender, message, session_id, custom_properties):\n",
    "    # Create a Service Bus message\n",
    "    print(session_id)\n",
    "    message = ServiceBusMessage(\n",
    "        session_id=session_id, body=message, application_properties=custom_properties\n",
    "    )\n",
    "    # send the message to the topic\n",
    "    resp = await sender.send_messages(message)\n",
    "    print(\"Sent message\")\n",
    "\n",
    "\n",
    "print(\n",
    "    f\"Starting Sending Messages to Service Bus SB: {FULLY_QUALIFIED_NAMESPACE}, TOPIC: {TOPIC_NAME}\"\n",
    ")\n",
    "print(\"--------------------------------------------------------------------\")\n",
    "await run()\n",
    "print(\"--------------------------------------------------------------------\")\n",
    "print(\"Completed\")"
   ]
  },
  {
   "cell_type": "markdown",
   "metadata": {},
   "source": [
    "# Send To sbt-posting\n"
   ]
  },
  {
   "cell_type": "code",
   "execution_count": null,
   "metadata": {},
   "outputs": [
    {
     "name": "stdout",
     "output_type": "stream",
     "text": [
      "Starting Sending Messages to Service Bus SB: sb-ea2-core-jcza6-int.servicebus.windows.net, TOPIC: sbt-posting\n",
      "--------------------------------------------------------------------\n",
      "1: 886926015423 - 265 - categoryInventory\n"
     ]
    },
    {
     "name": "stderr",
     "output_type": "stream",
     "text": [
      "Unclosed client session\n",
      "client_session: <aiohttp.client.ClientSession object at 0x000001D2A2322120>\n"
     ]
    },
    {
     "name": "stdout",
     "output_type": "stream",
     "text": [
      "Sent message\n",
      "--------------------------------------------------------------------\n",
      "Completed\n"
     ]
    }
   ],
   "source": [
    "import json\n",
    "from azure.servicebus.aio import ServiceBusClient\n",
    "from azure.servicebus import ServiceBusMessage\n",
    "from azure.identity.aio import DefaultAzureCredential\n",
    "\n",
    "FULLY_QUALIFIED_NAMESPACE = \"\"\n",
    "TOPIC_NAME = \"\"\n",
    "credential = DefaultAzureCredential()\n",
    "\n",
    "\n",
    "async def run():\n",
    "    async with ServiceBusClient(\n",
    "        fully_qualified_namespace=FULLY_QUALIFIED_NAMESPACE,\n",
    "        credential=credential,\n",
    "        logging_enable=True,\n",
    "    ) as servicebus_client:\n",
    "        sender = servicebus_client.get_topic_sender(topic_name=TOPIC_NAME)\n",
    "        with open(\"single-record.json\") as json_file:\n",
    "            data = json.load(json_file)\n",
    "            count = 0\n",
    "            for record in data:\n",
    "                count += 1\n",
    "                print(\n",
    "                    f\"{count}: {record['upc']} - {record['unit']} - {record['auditDocumentType']}\"\n",
    "                )\n",
    "                custom_properties = {\"auditDocumentType\": record[\"auditDocumentType\"]}\n",
    "                message = json.dumps(record)\n",
    "                await send_message(sender, message, custom_properties)\n",
    "\n",
    "\n",
    "async def send_message(sender, message, custom_properties):\n",
    "    # Create a Service Bus message\n",
    "    message = ServiceBusMessage(message, application_properties=custom_properties)\n",
    "    # send the message to the topic\n",
    "    resp = await sender.send_messages(message)\n",
    "    print(\"Sent message\")\n",
    "\n",
    "\n",
    "print(\n",
    "    f\"Starting Sending Messages to Service Bus SB: {FULLY_QUALIFIED_NAMESPACE}, TOPIC: {TOPIC_NAME}\"\n",
    ")\n",
    "print(\"--------------------------------------------------------------------\")\n",
    "await run()\n",
    "print(\"--------------------------------------------------------------------\")\n",
    "print(\"Completed\")"
   ]
  }
 ],
 "metadata": {
  "kernelspec": {
   "display_name": "Python 3",
   "language": "python",
   "name": "python3"
  },
  "language_info": {
   "codemirror_mode": {
    "name": "ipython",
    "version": 3
   },
   "file_extension": ".py",
   "mimetype": "text/x-python",
   "name": "python",
   "nbconvert_exporter": "python",
   "pygments_lexer": "ipython3",
   "version": "3.12.0"
  }
 },
 "nbformat": 4,
 "nbformat_minor": 2
}
