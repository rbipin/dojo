{
  "cells": [
    {
      "cell_type": "markdown",
      "metadata": {},
      "source": [
        "## Adding A and B"
      ]
    },
    {
      "cell_type": "code",
      "execution_count": 1,
      "metadata": {
        "dotnet_interactive": {
          "language": "csharp"
        }
      },
      "source": [
        "def add(a, b):\n",
        "    sum = a + b\n",
        "    print(f'Sum: {sum}')\n",
        "\n",
        "add(5, 2)"
      ],
      "outputs": [
        {
          "output_type": "execute_result",
          "data": {
            "text/plain": "Sum: 7"
          },
          "execution_count": 1,
          "metadata": {}
        }
      ]
    },
    {
      "cell_type": "markdown",
      "metadata": {},
      "source": [
        "## Censor the Word"
      ]
    },
    {
      "cell_type": "code",
      "execution_count": 1,
      "metadata": {
        "dotnet_interactive": {
          "language": "csharp"
        }
      },
      "source": [
        "\"\"\"\n",
        "This code demonstrates use of .append key and way to insert value into a list\n",
        "\"\"\"\n",
        "def censor(text,word):\n",
        "\twordsinSen=text.split()\n",
        "\tnewSentense=[]\n",
        "\tfor w in wordsinSen:\n",
        "\t\tif w.lower()==word.lower():\n",
        "\t\t\tnewSentense.append(\"*\"*len(w))\n",
        "\t\telse:\n",
        "\t\t\tnewSentense.append(w)\n",
        "\treturn newSentense\n",
        "\t\n",
        "print (\" \".join(censor(\"this hack is wack hack\", \"hack\")))"
      ],
      "outputs": [
        {
          "output_type": "execute_result",
          "data": {
            "text/plain": "this **** is wack ****"
          },
          "execution_count": 1,
          "metadata": {}
        }
      ]
    },
    {
      "cell_type": "markdown",
      "metadata": {},
      "source": [
        "## Fibanocci Series\t"
      ]
    },
    {
      "cell_type": "code",
      "execution_count": 1,
      "metadata": {
        "dotnet_interactive": {
          "language": "csharp"
        }
      },
      "source": [
        "\"\"\"\n",
        "generate fibanocci series\n",
        "Author: Bipin Radhakrishnan\n",
        "\"\"\"\n",
        "def fibano_Series(number):\n",
        "\tfirst=0\n",
        "\tsecond=1\n",
        "\tnext=0\n",
        "\tprint (first) \n",
        "\tprint(second)\n",
        "\tfor count in range(1,number-2):\n",
        "\t\tnext=first+second\n",
        "\t\tprint (next)\n",
        "\t\tfirst=second\n",
        "\t\tsecond=next\n",
        "\n",
        "num=int(input(\"Enter the Number of Fibanocci Series to Print: \"))\n",
        "\n",
        "fibano_Series(num)"
      ],
      "outputs": [
        {
          "output_type": "execute_result",
          "data": {
            "text/plain": "0\n1\n1\n2"
          },
          "execution_count": 1,
          "metadata": {}
        }
      ]
    },
    {
      "cell_type": "code",
      "execution_count": 1,
      "metadata": {
        "dotnet_interactive": {
          "language": "python"
        }
      },
      "source": [
        "import requests\n",
        "import json\n",
        "def getPlanets():\n",
        "    resp = requests.get('https://swapi.dev/api/planets/', verify=False);\n",
        "    if resp.status_code != 200:\n",
        "        print(f'Not Success, Status Code: {resp.status_code}')\n",
        "    else:\n",
        "        print(f'Success, Status Code: {resp.status_code}')\n",
        "        respJson = json.loads(resp.text);\n",
        "        #print(json.dumps(respJson, indent=4))\n",
        "        #print(respJson['results'])\n",
        "        for planet in respJson['results']:\n",
        "            print(planet['name'])\n",
        "\n",
        "getPlanets()"
      ],
      "outputs": [
        {
          "output_type": "execute_result",
          "data": {
            "application/x.notebook.stderr": "/Users/BRadhakrishnan/Library/Python/3.9/lib/python/site-packages/urllib3/connectionpool.py:1013: InsecureRequestWarning: Unverified HTTPS request is being made to host 'swapi.dev'. Adding certificate verification is strongly advised. See: https://urllib3.readthedocs.io/en/latest/advanced-usage.html#ssl-warnings\n  warnings.warn(\n"
          },
          "execution_count": 1,
          "metadata": {}
        },
        {
          "output_type": "execute_result",
          "data": {
            "application/x.notebook.stdout": "Success, Status Code: 200\nTatooine\nAlderaan\nYavin IV\nHoth\nDagobah\nBespin\nEndor\nNaboo\nCoruscant\nKamino\n"
          },
          "execution_count": 1,
          "metadata": {}
        }
      ]
    }
  ],
  "metadata": {
    "kernelspec": {
      "display_name": ".NET (C#)",
      "language": "C#",
      "name": ".net-csharp"
    },
    "language_info": {
      "file_extension": ".cs",
      "mimetype": "text/x-csharp",
      "name": "C#",
      "pygments_lexer": "csharp",
      "version": "8.0"
    }
  },
  "nbformat": 4,
  "nbformat_minor": 4
}